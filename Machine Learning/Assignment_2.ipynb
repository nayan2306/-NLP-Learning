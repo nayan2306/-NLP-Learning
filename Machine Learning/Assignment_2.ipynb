{
 "cells": [
  {
   "cell_type": "code",
   "execution_count": 1,
   "id": "3253717b",
   "metadata": {},
   "outputs": [],
   "source": [
    "import numpy as np\n",
    "import pandas as pd\n",
    "import matplotlib.pyplot as plt"
   ]
  },
  {
   "cell_type": "code",
   "execution_count": 2,
   "id": "bb56f079",
   "metadata": {},
   "outputs": [],
   "source": [
    "data=pd.read_csv('mammals.csv')"
   ]
  },
  {
   "cell_type": "code",
   "execution_count": 3,
   "id": "c9891290",
   "metadata": {},
   "outputs": [
    {
     "data": {
      "text/html": [
       "<div>\n",
       "<style scoped>\n",
       "    .dataframe tbody tr th:only-of-type {\n",
       "        vertical-align: middle;\n",
       "    }\n",
       "\n",
       "    .dataframe tbody tr th {\n",
       "        vertical-align: top;\n",
       "    }\n",
       "\n",
       "    .dataframe thead th {\n",
       "        text-align: right;\n",
       "    }\n",
       "</style>\n",
       "<table border=\"1\" class=\"dataframe\">\n",
       "  <thead>\n",
       "    <tr style=\"text-align: right;\">\n",
       "      <th></th>\n",
       "      <th>species</th>\n",
       "      <th>body_wt</th>\n",
       "      <th>brain_wt</th>\n",
       "      <th>non_dreaming</th>\n",
       "      <th>dreaming</th>\n",
       "      <th>total_sleep</th>\n",
       "      <th>life_span</th>\n",
       "      <th>gestation</th>\n",
       "      <th>predation</th>\n",
       "      <th>exposure</th>\n",
       "      <th>danger</th>\n",
       "    </tr>\n",
       "  </thead>\n",
       "  <tbody>\n",
       "    <tr>\n",
       "      <th>0</th>\n",
       "      <td>Africanelephant</td>\n",
       "      <td>6654.000</td>\n",
       "      <td>5712.0</td>\n",
       "      <td>NaN</td>\n",
       "      <td>NaN</td>\n",
       "      <td>3.3</td>\n",
       "      <td>38.6</td>\n",
       "      <td>645.0</td>\n",
       "      <td>3</td>\n",
       "      <td>5</td>\n",
       "      <td>3</td>\n",
       "    </tr>\n",
       "    <tr>\n",
       "      <th>1</th>\n",
       "      <td>Africangiantpouchedrat</td>\n",
       "      <td>1.000</td>\n",
       "      <td>6.6</td>\n",
       "      <td>6.3</td>\n",
       "      <td>2.0</td>\n",
       "      <td>8.3</td>\n",
       "      <td>4.5</td>\n",
       "      <td>42.0</td>\n",
       "      <td>3</td>\n",
       "      <td>1</td>\n",
       "      <td>3</td>\n",
       "    </tr>\n",
       "    <tr>\n",
       "      <th>2</th>\n",
       "      <td>ArcticFox</td>\n",
       "      <td>3.385</td>\n",
       "      <td>44.5</td>\n",
       "      <td>NaN</td>\n",
       "      <td>NaN</td>\n",
       "      <td>12.5</td>\n",
       "      <td>14.0</td>\n",
       "      <td>60.0</td>\n",
       "      <td>1</td>\n",
       "      <td>1</td>\n",
       "      <td>1</td>\n",
       "    </tr>\n",
       "    <tr>\n",
       "      <th>3</th>\n",
       "      <td>Arcticgroundsquirrel</td>\n",
       "      <td>0.920</td>\n",
       "      <td>5.7</td>\n",
       "      <td>NaN</td>\n",
       "      <td>NaN</td>\n",
       "      <td>16.5</td>\n",
       "      <td>NaN</td>\n",
       "      <td>25.0</td>\n",
       "      <td>5</td>\n",
       "      <td>2</td>\n",
       "      <td>3</td>\n",
       "    </tr>\n",
       "    <tr>\n",
       "      <th>4</th>\n",
       "      <td>Asianelephant</td>\n",
       "      <td>2547.000</td>\n",
       "      <td>4603.0</td>\n",
       "      <td>2.1</td>\n",
       "      <td>1.8</td>\n",
       "      <td>3.9</td>\n",
       "      <td>69.0</td>\n",
       "      <td>624.0</td>\n",
       "      <td>3</td>\n",
       "      <td>5</td>\n",
       "      <td>4</td>\n",
       "    </tr>\n",
       "  </tbody>\n",
       "</table>\n",
       "</div>"
      ],
      "text/plain": [
       "                  species   body_wt  brain_wt  non_dreaming  dreaming  \\\n",
       "0         Africanelephant  6654.000    5712.0           NaN       NaN   \n",
       "1  Africangiantpouchedrat     1.000       6.6           6.3       2.0   \n",
       "2               ArcticFox     3.385      44.5           NaN       NaN   \n",
       "3    Arcticgroundsquirrel     0.920       5.7           NaN       NaN   \n",
       "4           Asianelephant  2547.000    4603.0           2.1       1.8   \n",
       "\n",
       "   total_sleep  life_span  gestation  predation  exposure  danger  \n",
       "0          3.3       38.6      645.0          3         5       3  \n",
       "1          8.3        4.5       42.0          3         1       3  \n",
       "2         12.5       14.0       60.0          1         1       1  \n",
       "3         16.5        NaN       25.0          5         2       3  \n",
       "4          3.9       69.0      624.0          3         5       4  "
      ]
     },
     "execution_count": 3,
     "metadata": {},
     "output_type": "execute_result"
    }
   ],
   "source": [
    "data.head()"
   ]
  },
  {
   "cell_type": "code",
   "execution_count": 4,
   "id": "204298a9",
   "metadata": {},
   "outputs": [
    {
     "data": {
      "text/html": [
       "<div>\n",
       "<style scoped>\n",
       "    .dataframe tbody tr th:only-of-type {\n",
       "        vertical-align: middle;\n",
       "    }\n",
       "\n",
       "    .dataframe tbody tr th {\n",
       "        vertical-align: top;\n",
       "    }\n",
       "\n",
       "    .dataframe thead th {\n",
       "        text-align: right;\n",
       "    }\n",
       "</style>\n",
       "<table border=\"1\" class=\"dataframe\">\n",
       "  <thead>\n",
       "    <tr style=\"text-align: right;\">\n",
       "      <th></th>\n",
       "      <th>species</th>\n",
       "      <th>body_wt</th>\n",
       "      <th>brain_wt</th>\n",
       "      <th>non_dreaming</th>\n",
       "      <th>dreaming</th>\n",
       "      <th>total_sleep</th>\n",
       "      <th>life_span</th>\n",
       "      <th>gestation</th>\n",
       "      <th>predation</th>\n",
       "      <th>exposure</th>\n",
       "      <th>danger</th>\n",
       "    </tr>\n",
       "  </thead>\n",
       "  <tbody>\n",
       "    <tr>\n",
       "      <th>57</th>\n",
       "      <td>Treehyrax</td>\n",
       "      <td>2.000</td>\n",
       "      <td>12.3</td>\n",
       "      <td>4.9</td>\n",
       "      <td>0.5</td>\n",
       "      <td>5.4</td>\n",
       "      <td>7.5</td>\n",
       "      <td>200.0</td>\n",
       "      <td>3</td>\n",
       "      <td>1</td>\n",
       "      <td>3</td>\n",
       "    </tr>\n",
       "    <tr>\n",
       "      <th>58</th>\n",
       "      <td>Treeshrew</td>\n",
       "      <td>0.104</td>\n",
       "      <td>2.5</td>\n",
       "      <td>13.2</td>\n",
       "      <td>2.6</td>\n",
       "      <td>15.8</td>\n",
       "      <td>2.3</td>\n",
       "      <td>46.0</td>\n",
       "      <td>3</td>\n",
       "      <td>2</td>\n",
       "      <td>2</td>\n",
       "    </tr>\n",
       "    <tr>\n",
       "      <th>59</th>\n",
       "      <td>Vervet</td>\n",
       "      <td>4.190</td>\n",
       "      <td>58.0</td>\n",
       "      <td>9.7</td>\n",
       "      <td>0.6</td>\n",
       "      <td>10.3</td>\n",
       "      <td>24.0</td>\n",
       "      <td>210.0</td>\n",
       "      <td>4</td>\n",
       "      <td>3</td>\n",
       "      <td>4</td>\n",
       "    </tr>\n",
       "    <tr>\n",
       "      <th>60</th>\n",
       "      <td>Wateropossum</td>\n",
       "      <td>3.500</td>\n",
       "      <td>3.9</td>\n",
       "      <td>12.8</td>\n",
       "      <td>6.6</td>\n",
       "      <td>19.4</td>\n",
       "      <td>3.0</td>\n",
       "      <td>14.0</td>\n",
       "      <td>2</td>\n",
       "      <td>1</td>\n",
       "      <td>1</td>\n",
       "    </tr>\n",
       "    <tr>\n",
       "      <th>61</th>\n",
       "      <td>Yellow-belliedmarmot</td>\n",
       "      <td>4.050</td>\n",
       "      <td>17.0</td>\n",
       "      <td>NaN</td>\n",
       "      <td>NaN</td>\n",
       "      <td>NaN</td>\n",
       "      <td>13.0</td>\n",
       "      <td>38.0</td>\n",
       "      <td>3</td>\n",
       "      <td>1</td>\n",
       "      <td>1</td>\n",
       "    </tr>\n",
       "  </tbody>\n",
       "</table>\n",
       "</div>"
      ],
      "text/plain": [
       "                 species  body_wt  brain_wt  non_dreaming  dreaming  \\\n",
       "57             Treehyrax    2.000      12.3           4.9       0.5   \n",
       "58             Treeshrew    0.104       2.5          13.2       2.6   \n",
       "59                Vervet    4.190      58.0           9.7       0.6   \n",
       "60          Wateropossum    3.500       3.9          12.8       6.6   \n",
       "61  Yellow-belliedmarmot    4.050      17.0           NaN       NaN   \n",
       "\n",
       "    total_sleep  life_span  gestation  predation  exposure  danger  \n",
       "57          5.4        7.5      200.0          3         1       3  \n",
       "58         15.8        2.3       46.0          3         2       2  \n",
       "59         10.3       24.0      210.0          4         3       4  \n",
       "60         19.4        3.0       14.0          2         1       1  \n",
       "61          NaN       13.0       38.0          3         1       1  "
      ]
     },
     "execution_count": 4,
     "metadata": {},
     "output_type": "execute_result"
    }
   ],
   "source": [
    "data.tail()"
   ]
  },
  {
   "cell_type": "code",
   "execution_count": 5,
   "id": "67092720",
   "metadata": {},
   "outputs": [
    {
     "data": {
      "text/plain": [
       "(62, 11)"
      ]
     },
     "execution_count": 5,
     "metadata": {},
     "output_type": "execute_result"
    }
   ],
   "source": [
    "data.shape"
   ]
  },
  {
   "cell_type": "code",
   "execution_count": 6,
   "id": "0465eaab",
   "metadata": {},
   "outputs": [
    {
     "name": "stdout",
     "output_type": "stream",
     "text": [
      "<class 'pandas.core.frame.DataFrame'>\n",
      "RangeIndex: 62 entries, 0 to 61\n",
      "Data columns (total 11 columns):\n",
      " #   Column        Non-Null Count  Dtype  \n",
      "---  ------        --------------  -----  \n",
      " 0   species       62 non-null     object \n",
      " 1   body_wt       62 non-null     float64\n",
      " 2   brain_wt      62 non-null     float64\n",
      " 3   non_dreaming  48 non-null     float64\n",
      " 4   dreaming      50 non-null     float64\n",
      " 5   total_sleep   58 non-null     float64\n",
      " 6   life_span     58 non-null     float64\n",
      " 7   gestation     58 non-null     float64\n",
      " 8   predation     62 non-null     int64  \n",
      " 9   exposure      62 non-null     int64  \n",
      " 10  danger        62 non-null     int64  \n",
      "dtypes: float64(7), int64(3), object(1)\n",
      "memory usage: 5.5+ KB\n"
     ]
    }
   ],
   "source": [
    "data.info()"
   ]
  },
  {
   "cell_type": "code",
   "execution_count": 7,
   "id": "4b1f783f",
   "metadata": {},
   "outputs": [
    {
     "data": {
      "text/plain": [
       "species          0\n",
       "body_wt          0\n",
       "brain_wt         0\n",
       "non_dreaming    14\n",
       "dreaming        12\n",
       "total_sleep      4\n",
       "life_span        4\n",
       "gestation        4\n",
       "predation        0\n",
       "exposure         0\n",
       "danger           0\n",
       "dtype: int64"
      ]
     },
     "execution_count": 7,
     "metadata": {},
     "output_type": "execute_result"
    }
   ],
   "source": [
    "data.isnull().sum()"
   ]
  },
  {
   "cell_type": "code",
   "execution_count": 8,
   "id": "2b2ba047",
   "metadata": {},
   "outputs": [
    {
     "name": "stderr",
     "output_type": "stream",
     "text": [
      "C:\\Users\\nidhi\\AppData\\Local\\Temp\\ipykernel_1792\\2627137660.py:1: FutureWarning: The default value of numeric_only in DataFrame.corr is deprecated. In a future version, it will default to False. Select only valid columns or specify the value of numeric_only to silence this warning.\n",
      "  data.corr()\n"
     ]
    },
    {
     "data": {
      "text/html": [
       "<div>\n",
       "<style scoped>\n",
       "    .dataframe tbody tr th:only-of-type {\n",
       "        vertical-align: middle;\n",
       "    }\n",
       "\n",
       "    .dataframe tbody tr th {\n",
       "        vertical-align: top;\n",
       "    }\n",
       "\n",
       "    .dataframe thead th {\n",
       "        text-align: right;\n",
       "    }\n",
       "</style>\n",
       "<table border=\"1\" class=\"dataframe\">\n",
       "  <thead>\n",
       "    <tr style=\"text-align: right;\">\n",
       "      <th></th>\n",
       "      <th>body_wt</th>\n",
       "      <th>brain_wt</th>\n",
       "      <th>non_dreaming</th>\n",
       "      <th>dreaming</th>\n",
       "      <th>total_sleep</th>\n",
       "      <th>life_span</th>\n",
       "      <th>gestation</th>\n",
       "      <th>predation</th>\n",
       "      <th>exposure</th>\n",
       "      <th>danger</th>\n",
       "    </tr>\n",
       "  </thead>\n",
       "  <tbody>\n",
       "    <tr>\n",
       "      <th>body_wt</th>\n",
       "      <td>1.000000</td>\n",
       "      <td>0.934164</td>\n",
       "      <td>-0.375946</td>\n",
       "      <td>-0.109383</td>\n",
       "      <td>-0.307186</td>\n",
       "      <td>0.302451</td>\n",
       "      <td>0.651102</td>\n",
       "      <td>0.059495</td>\n",
       "      <td>0.338274</td>\n",
       "      <td>0.133581</td>\n",
       "    </tr>\n",
       "    <tr>\n",
       "      <th>brain_wt</th>\n",
       "      <td>0.934164</td>\n",
       "      <td>1.000000</td>\n",
       "      <td>-0.369218</td>\n",
       "      <td>-0.105139</td>\n",
       "      <td>-0.358102</td>\n",
       "      <td>0.509253</td>\n",
       "      <td>0.747242</td>\n",
       "      <td>0.033855</td>\n",
       "      <td>0.367800</td>\n",
       "      <td>0.145879</td>\n",
       "    </tr>\n",
       "    <tr>\n",
       "      <th>non_dreaming</th>\n",
       "      <td>-0.375946</td>\n",
       "      <td>-0.369218</td>\n",
       "      <td>1.000000</td>\n",
       "      <td>0.514254</td>\n",
       "      <td>0.962715</td>\n",
       "      <td>-0.384432</td>\n",
       "      <td>-0.594703</td>\n",
       "      <td>-0.318185</td>\n",
       "      <td>-0.543757</td>\n",
       "      <td>-0.483852</td>\n",
       "    </tr>\n",
       "    <tr>\n",
       "      <th>dreaming</th>\n",
       "      <td>-0.109383</td>\n",
       "      <td>-0.105139</td>\n",
       "      <td>0.514254</td>\n",
       "      <td>1.000000</td>\n",
       "      <td>0.727087</td>\n",
       "      <td>-0.295745</td>\n",
       "      <td>-0.450899</td>\n",
       "      <td>-0.447471</td>\n",
       "      <td>-0.537225</td>\n",
       "      <td>-0.579337</td>\n",
       "    </tr>\n",
       "    <tr>\n",
       "      <th>total_sleep</th>\n",
       "      <td>-0.307186</td>\n",
       "      <td>-0.358102</td>\n",
       "      <td>0.962715</td>\n",
       "      <td>0.727087</td>\n",
       "      <td>1.000000</td>\n",
       "      <td>-0.410202</td>\n",
       "      <td>-0.631326</td>\n",
       "      <td>-0.395835</td>\n",
       "      <td>-0.642285</td>\n",
       "      <td>-0.587742</td>\n",
       "    </tr>\n",
       "    <tr>\n",
       "      <th>life_span</th>\n",
       "      <td>0.302451</td>\n",
       "      <td>0.509253</td>\n",
       "      <td>-0.384432</td>\n",
       "      <td>-0.295745</td>\n",
       "      <td>-0.410202</td>\n",
       "      <td>1.000000</td>\n",
       "      <td>0.614849</td>\n",
       "      <td>-0.102544</td>\n",
       "      <td>0.360352</td>\n",
       "      <td>0.061778</td>\n",
       "    </tr>\n",
       "    <tr>\n",
       "      <th>gestation</th>\n",
       "      <td>0.651102</td>\n",
       "      <td>0.747242</td>\n",
       "      <td>-0.594703</td>\n",
       "      <td>-0.450899</td>\n",
       "      <td>-0.631326</td>\n",
       "      <td>0.614849</td>\n",
       "      <td>1.000000</td>\n",
       "      <td>0.200504</td>\n",
       "      <td>0.638279</td>\n",
       "      <td>0.378617</td>\n",
       "    </tr>\n",
       "    <tr>\n",
       "      <th>predation</th>\n",
       "      <td>0.059495</td>\n",
       "      <td>0.033855</td>\n",
       "      <td>-0.318185</td>\n",
       "      <td>-0.447471</td>\n",
       "      <td>-0.395835</td>\n",
       "      <td>-0.102544</td>\n",
       "      <td>0.200504</td>\n",
       "      <td>1.000000</td>\n",
       "      <td>0.618246</td>\n",
       "      <td>0.916042</td>\n",
       "    </tr>\n",
       "    <tr>\n",
       "      <th>exposure</th>\n",
       "      <td>0.338274</td>\n",
       "      <td>0.367800</td>\n",
       "      <td>-0.543757</td>\n",
       "      <td>-0.537225</td>\n",
       "      <td>-0.642285</td>\n",
       "      <td>0.360352</td>\n",
       "      <td>0.638279</td>\n",
       "      <td>0.618246</td>\n",
       "      <td>1.000000</td>\n",
       "      <td>0.787203</td>\n",
       "    </tr>\n",
       "    <tr>\n",
       "      <th>danger</th>\n",
       "      <td>0.133581</td>\n",
       "      <td>0.145879</td>\n",
       "      <td>-0.483852</td>\n",
       "      <td>-0.579337</td>\n",
       "      <td>-0.587742</td>\n",
       "      <td>0.061778</td>\n",
       "      <td>0.378617</td>\n",
       "      <td>0.916042</td>\n",
       "      <td>0.787203</td>\n",
       "      <td>1.000000</td>\n",
       "    </tr>\n",
       "  </tbody>\n",
       "</table>\n",
       "</div>"
      ],
      "text/plain": [
       "               body_wt  brain_wt  non_dreaming  dreaming  total_sleep  \\\n",
       "body_wt       1.000000  0.934164     -0.375946 -0.109383    -0.307186   \n",
       "brain_wt      0.934164  1.000000     -0.369218 -0.105139    -0.358102   \n",
       "non_dreaming -0.375946 -0.369218      1.000000  0.514254     0.962715   \n",
       "dreaming     -0.109383 -0.105139      0.514254  1.000000     0.727087   \n",
       "total_sleep  -0.307186 -0.358102      0.962715  0.727087     1.000000   \n",
       "life_span     0.302451  0.509253     -0.384432 -0.295745    -0.410202   \n",
       "gestation     0.651102  0.747242     -0.594703 -0.450899    -0.631326   \n",
       "predation     0.059495  0.033855     -0.318185 -0.447471    -0.395835   \n",
       "exposure      0.338274  0.367800     -0.543757 -0.537225    -0.642285   \n",
       "danger        0.133581  0.145879     -0.483852 -0.579337    -0.587742   \n",
       "\n",
       "              life_span  gestation  predation  exposure    danger  \n",
       "body_wt        0.302451   0.651102   0.059495  0.338274  0.133581  \n",
       "brain_wt       0.509253   0.747242   0.033855  0.367800  0.145879  \n",
       "non_dreaming  -0.384432  -0.594703  -0.318185 -0.543757 -0.483852  \n",
       "dreaming      -0.295745  -0.450899  -0.447471 -0.537225 -0.579337  \n",
       "total_sleep   -0.410202  -0.631326  -0.395835 -0.642285 -0.587742  \n",
       "life_span      1.000000   0.614849  -0.102544  0.360352  0.061778  \n",
       "gestation      0.614849   1.000000   0.200504  0.638279  0.378617  \n",
       "predation     -0.102544   0.200504   1.000000  0.618246  0.916042  \n",
       "exposure       0.360352   0.638279   0.618246  1.000000  0.787203  \n",
       "danger         0.061778   0.378617   0.916042  0.787203  1.000000  "
      ]
     },
     "execution_count": 8,
     "metadata": {},
     "output_type": "execute_result"
    }
   ],
   "source": [
    "data.corr()"
   ]
  },
  {
   "cell_type": "code",
   "execution_count": 9,
   "id": "29339126",
   "metadata": {},
   "outputs": [],
   "source": [
    "data=data.drop(columns=['species','non_dreaming','dreaming','total_sleep','life_span','gestation','predation','exposure','danger'],axis=1)"
   ]
  },
  {
   "cell_type": "code",
   "execution_count": 10,
   "id": "45f6b835",
   "metadata": {},
   "outputs": [
    {
     "data": {
      "text/html": [
       "<div>\n",
       "<style scoped>\n",
       "    .dataframe tbody tr th:only-of-type {\n",
       "        vertical-align: middle;\n",
       "    }\n",
       "\n",
       "    .dataframe tbody tr th {\n",
       "        vertical-align: top;\n",
       "    }\n",
       "\n",
       "    .dataframe thead th {\n",
       "        text-align: right;\n",
       "    }\n",
       "</style>\n",
       "<table border=\"1\" class=\"dataframe\">\n",
       "  <thead>\n",
       "    <tr style=\"text-align: right;\">\n",
       "      <th></th>\n",
       "      <th>body_wt</th>\n",
       "      <th>brain_wt</th>\n",
       "    </tr>\n",
       "  </thead>\n",
       "  <tbody>\n",
       "    <tr>\n",
       "      <th>0</th>\n",
       "      <td>6654.000</td>\n",
       "      <td>5712.0</td>\n",
       "    </tr>\n",
       "    <tr>\n",
       "      <th>1</th>\n",
       "      <td>1.000</td>\n",
       "      <td>6.6</td>\n",
       "    </tr>\n",
       "    <tr>\n",
       "      <th>2</th>\n",
       "      <td>3.385</td>\n",
       "      <td>44.5</td>\n",
       "    </tr>\n",
       "    <tr>\n",
       "      <th>3</th>\n",
       "      <td>0.920</td>\n",
       "      <td>5.7</td>\n",
       "    </tr>\n",
       "    <tr>\n",
       "      <th>4</th>\n",
       "      <td>2547.000</td>\n",
       "      <td>4603.0</td>\n",
       "    </tr>\n",
       "    <tr>\n",
       "      <th>...</th>\n",
       "      <td>...</td>\n",
       "      <td>...</td>\n",
       "    </tr>\n",
       "    <tr>\n",
       "      <th>57</th>\n",
       "      <td>2.000</td>\n",
       "      <td>12.3</td>\n",
       "    </tr>\n",
       "    <tr>\n",
       "      <th>58</th>\n",
       "      <td>0.104</td>\n",
       "      <td>2.5</td>\n",
       "    </tr>\n",
       "    <tr>\n",
       "      <th>59</th>\n",
       "      <td>4.190</td>\n",
       "      <td>58.0</td>\n",
       "    </tr>\n",
       "    <tr>\n",
       "      <th>60</th>\n",
       "      <td>3.500</td>\n",
       "      <td>3.9</td>\n",
       "    </tr>\n",
       "    <tr>\n",
       "      <th>61</th>\n",
       "      <td>4.050</td>\n",
       "      <td>17.0</td>\n",
       "    </tr>\n",
       "  </tbody>\n",
       "</table>\n",
       "<p>62 rows × 2 columns</p>\n",
       "</div>"
      ],
      "text/plain": [
       "     body_wt  brain_wt\n",
       "0   6654.000    5712.0\n",
       "1      1.000       6.6\n",
       "2      3.385      44.5\n",
       "3      0.920       5.7\n",
       "4   2547.000    4603.0\n",
       "..       ...       ...\n",
       "57     2.000      12.3\n",
       "58     0.104       2.5\n",
       "59     4.190      58.0\n",
       "60     3.500       3.9\n",
       "61     4.050      17.0\n",
       "\n",
       "[62 rows x 2 columns]"
      ]
     },
     "execution_count": 10,
     "metadata": {},
     "output_type": "execute_result"
    }
   ],
   "source": [
    "data"
   ]
  },
  {
   "cell_type": "code",
   "execution_count": 11,
   "id": "8e329f82",
   "metadata": {},
   "outputs": [],
   "source": [
    "x = np.array(data['brain_wt']).reshape(-1, 1)\n",
    "y = np.array(data['body_wt']).reshape(-1, 1)"
   ]
  },
  {
   "cell_type": "code",
   "execution_count": 12,
   "id": "83bf02f5",
   "metadata": {},
   "outputs": [],
   "source": [
    "from sklearn.model_selection import train_test_split\n",
    "train_x,test_x,train_y,test_y=train_test_split(x,y,random_state=42,test_size=0.2)"
   ]
  },
  {
   "cell_type": "code",
   "execution_count": 13,
   "id": "d5b9caf5",
   "metadata": {},
   "outputs": [],
   "source": [
    "from sklearn.metrics import mean_absolute_error\n",
    "from sklearn.metrics import mean_squared_error\n",
    "from sklearn.metrics import r2_score\n",
    "from sklearn import linear_model"
   ]
  },
  {
   "cell_type": "code",
   "execution_count": 14,
   "id": "d5b5bd0d",
   "metadata": {},
   "outputs": [],
   "source": [
    "regr=linear_model.LinearRegression()\n",
    "regr.fit(train_x,train_y)\n",
    "y_pred=regr.predict(test_x)"
   ]
  },
  {
   "cell_type": "code",
   "execution_count": 15,
   "id": "98ee4cb6",
   "metadata": {},
   "outputs": [],
   "source": [
    "zz = regr.coef_*1000+regr.intercept_"
   ]
  },
  {
   "cell_type": "code",
   "execution_count": 16,
   "id": "b1d7c11c",
   "metadata": {},
   "outputs": [
    {
     "data": {
      "text/plain": [
       "array([[524.21893237]])"
      ]
     },
     "execution_count": 16,
     "metadata": {},
     "output_type": "execute_result"
    }
   ],
   "source": [
    "zz"
   ]
  },
  {
   "cell_type": "code",
   "execution_count": 17,
   "id": "4e2328e7",
   "metadata": {},
   "outputs": [
    {
     "name": "stdout",
     "output_type": "stream",
     "text": [
      "Accuracy: 67.44362182978874%\n"
     ]
    }
   ],
   "source": [
    "print('Accuracy: '+str(regr.score(test_x,test_y)*100)+'%')"
   ]
  },
  {
   "cell_type": "code",
   "execution_count": 18,
   "id": "e7518d87",
   "metadata": {},
   "outputs": [
    {
     "data": {
      "text/plain": [
       "array([[524.21893237]])"
      ]
     },
     "execution_count": 18,
     "metadata": {},
     "output_type": "execute_result"
    }
   ],
   "source": [
    "y_pred=regr.predict([[1000]])\n",
    "y_pred"
   ]
  },
  {
   "cell_type": "code",
   "execution_count": 19,
   "id": "704b0b50",
   "metadata": {},
   "outputs": [
    {
     "name": "stdout",
     "output_type": "stream",
     "text": [
      "[524.21893237]\n"
     ]
    }
   ],
   "source": [
    "listToStr = ' '.join([str(elem) for elem in y_pred])\n",
    " \n",
    "print(listToStr)"
   ]
  },
  {
   "cell_type": "code",
   "execution_count": 20,
   "id": "2fa410fe",
   "metadata": {},
   "outputs": [
    {
     "name": "stdout",
     "output_type": "stream",
     "text": [
      "The predicted body_weight for brain_weight 1000 is: [524.21893237]\n"
     ]
    }
   ],
   "source": [
    "print(\"The predicted body_weight for brain_weight 1000 is:\",str(listToStr))"
   ]
  },
  {
   "cell_type": "code",
   "execution_count": 21,
   "id": "420f4a44",
   "metadata": {},
   "outputs": [
    {
     "data": {
      "image/png": "[encoded data removed]",
      "text/plain": [
       "<Figure size 640x480 with 1 Axes>"
      ]
     },
     "metadata": {},
     "output_type": "display_data"
    }
   ],
   "source": [
    "# Visualising the Training set results\n",
    "import matplotlib.pyplot as plt\n",
    "plt.scatter(train_x,train_y, color = 'Yellow')\n",
    "plt.plot(train_x, regr.predict(train_x), color = 'blue')\n",
    "plt.title('body_wt vs brain_wt (Training set)')\n",
    "plt.xlabel('brain_wt')\n",
    "plt.ylabel('body_wt')\n",
    "plt.show()"
   ]
  },
  {
   "cell_type": "code",
   "execution_count": 22,
   "id": "3ab59279",
   "metadata": {},
   "outputs": [
    {
     "data": {
      "image/png": "[encoded data removed]",
      "text/plain": [
       "<Figure size 640x480 with 1 Axes>"
      ]
     },
     "metadata": {},
     "output_type": "display_data"
    }
   ],
   "source": [
    "# Visualising the Test set results\n",
    "plt.scatter(test_x,test_y, color = 'Yellow')\n",
    "plt.plot(train_x, regr.predict(train_x), color = 'blue')\n",
    "plt.title('body_wt vs brain_wt (Test set)')\n",
    "plt.xlabel('brain_wt')\n",
    "plt.ylabel('body_wt')\n",
    "plt.show()"
   ]
  },
  {
   "cell_type": "code",
   "execution_count": null,
   "id": "b26b4f94",
   "metadata": {},
   "outputs": [],
   "source": []
  }
 ],
 "metadata": {
  "kernelspec": {
   "display_name": "Python 3 (ipykernel)",
   "language": "python",
   "name": "python3"
  },
  "language_info": {
   "codemirror_mode": {
    "name": "ipython",
    "version": 3
   },
   "file_extension": ".py",
   "mimetype": "text/x-python",
   "name": "python",
   "nbconvert_exporter": "python",
   "pygments_lexer": "ipython3",
   "version": "3.10.6"
  }
 },
 "nbformat": 4,
 "nbformat_minor": 5
}
