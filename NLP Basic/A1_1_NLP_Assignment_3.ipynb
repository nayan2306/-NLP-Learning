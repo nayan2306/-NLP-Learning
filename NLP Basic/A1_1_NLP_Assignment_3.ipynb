{
  "cells": [
    {
      "cell_type": "markdown",
      "metadata": {
        "id": "5LGpEEHN65Vg"
      },
      "source": [
        "# English"
      ]
    },
    {
      "cell_type": "code",
      "execution_count": null,
      "metadata": {
        "colab": {
          "background_save": true,
          "base_uri": "https://localhost:8080/"
        },
        "id": "X78mOJNP0gS1",
        "outputId": "3b88e321-4cb0-4430-a2df-547e86dacb55"
      },
      "outputs": [
        {
          "name": "stderr",
          "output_type": "stream",
          "text": [
            "[nltk_data] Downloading package brown to /root/nltk_data...\n",
            "[nltk_data]   Unzipping corpora/brown.zip.\n"
          ]
        },
        {
          "data": {
            "text/plain": [
              "True"
            ]
          },
          "execution_count": 1,
          "metadata": {},
          "output_type": "execute_result"
        }
      ],
      "source": [
        "import nltk\n",
        "nltk.download('brown')"
      ]
    },
    {
      "cell_type": "code",
      "execution_count": null,
      "metadata": {
        "id": "VXTZpGbJ0GIH"
      },
      "outputs": [],
      "source": [
        "import numpy as np\n",
        "from nltk.corpus import brown\n",
        "\n",
        "# Predefined corpus\n",
        "corpus = brown.words()\n",
        "\n",
        "def min_edit_distance(s1, s2):\n",
        "    n, m = len(s1), len(s2)\n",
        "    D = np.zeros((n+1, m+1))\n",
        "    \n",
        "    for i in range(n+1):\n",
        "        D[i][0] = i\n",
        "        \n",
        "    for j in range(m+1):\n",
        "        D[0][j] = j\n",
        "        \n",
        "    for i in range(1, n+1):\n",
        "        for j in range(1, m+1):\n",
        "            if s1[i-1] == s2[j-1]:\n",
        "                D[i][j] = D[i-1][j-1]\n",
        "            else:\n",
        "                D[i][j] = min(D[i-1][j] + 1,   # deletion\n",
        "                              D[i][j-1] + 1,   # insertion\n",
        "                              D[i-1][j-1] + 2) # substitution\n",
        "    return int(D[n][m])\n",
        "\n",
        "def spelling_checker(word, corpus):\n",
        "    min_distance = float('inf')\n",
        "    suggestion = \"\"\n",
        "    for dict_word in corpus:\n",
        "        distance = min_edit_distance(word, dict_word.lower())\n",
        "        if distance < min_distance:\n",
        "            min_distance = distance\n",
        "            suggestion = dict_word\n",
        "    return suggestion"
      ]
    },
    {
      "cell_type": "code",
      "execution_count": null,
      "metadata": {
        "colab": {
          "base_uri": "https://localhost:8080/"
        },
        "id": "FNC9g0qF1B7h",
        "outputId": "b0feb8cb-f411-432a-f8c5-49e19bcb3d19"
      },
      "outputs": [
        {
          "name": "stdout",
          "output_type": "stream",
          "text": [
            "Enter misspelled word: famliy\n",
            "Misspelled word:  famliy\n",
            "Suggested correction:  family\n"
          ]
        }
      ],
      "source": [
        "# Example usage\n",
        "word = input(\"Enter misspelled word: \")\n",
        "word = word.lower()\n",
        "suggestion = spelling_checker(word, corpus)\n",
        "print(\"Misspelled word: \", word)\n",
        "print(\"Suggested correction: \", suggestion)"
      ]
    },
    {
      "cell_type": "markdown",
      "metadata": {
        "id": "vk61hSEl3_NZ"
      },
      "source": [
        "# hindi"
      ]
    },
    {
      "cell_type": "code",
      "execution_count": null,
      "metadata": {
        "colab": {
          "base_uri": "https://localhost:8080/"
        },
        "id": "5SPii6CH35La",
        "outputId": "8c34f19c-f348-4183-b1c7-de6a4c4a506b"
      },
      "outputs": [
        {
          "name": "stdout",
          "output_type": "stream",
          "text": [
            "['মহিষের', 'সন্তান', ':', 'তোড়া', 'উপজাতি', '৷', ...]\n"
          ]
        },
        {
          "name": "stderr",
          "output_type": "stream",
          "text": [
            "[nltk_data] Downloading package indian to /root/nltk_data...\n",
            "[nltk_data]   Package indian is already up-to-date!\n"
          ]
        }
      ],
      "source": [
        "import nltk\n",
        "nltk.download('indian')\n",
        "from nltk.corpus import indian\n",
        "hindi_words = indian.words()\n",
        "print(hindi_words)"
      ]
    },
    {
      "cell_type": "code",
      "execution_count": null,
      "metadata": {
        "id": "bPUJhLxs4CrS"
      },
      "outputs": [],
      "source": [
        "def edit_distance(word1, word2):\n",
        "    m, n = len(word1), len(word2)\n",
        "    dp = [[0 for j in range(n + 1)] for i in range(m + 1)]\n",
        "    for i in range(m + 1):\n",
        "        for j in range(n + 1):\n",
        "            if i == 0:\n",
        "                dp[i][j] = j\n",
        "            elif j == 0:\n",
        "                dp[i][j] = i\n",
        "            elif word1[i - 1] == word2[j - 1]:\n",
        "                dp[i][j] = dp[i - 1][j - 1]\n",
        "            else:\n",
        "                dp[i][j] = 1 + min(dp[i][j - 1], dp[i - 1][j], dp[i - 1][j - 1])\n",
        "    return dp[m][n]\n"
      ]
    },
    {
      "cell_type": "code",
      "execution_count": null,
      "metadata": {
        "id": "3XvnCjoy4GSC"
      },
      "outputs": [],
      "source": [
        "def check_spelling(word):\n",
        "    min_distance = float('inf')\n",
        "    closest_word = None\n",
        "    for hindi_word in hindi_words:\n",
        "        distance = edit_distance(word, hindi_word)\n",
        "        if distance < min_distance:\n",
        "            min_distance = distance\n",
        "            closest_word = hindi_word\n",
        "    return closest_word\n"
      ]
    },
    {
      "cell_type": "code",
      "execution_count": null,
      "metadata": {
        "colab": {
          "base_uri": "https://localhost:8080/"
        },
        "id": "iL0PqU3h4KUC",
        "outputId": "e5b9782f-e408-4983-f171-8766bda92545"
      },
      "outputs": [
        {
          "name": "stdout",
          "output_type": "stream",
          "text": [
            "कम्प्यूटर\n"
          ]
        }
      ],
      "source": [
        "print(check_spelling('कंप्यटर')) # Output: कम्प्यूटर\n",
        "\n"
      ]
    }
  ],
  "metadata": {
    "colab": {
      "provenance": []
    },
    "kernelspec": {
      "display_name": "Python 3",
      "name": "python3"
    },
    "language_info": {
      "name": "python"
    }
  },
  "nbformat": 4,
  "nbformat_minor": 0
}