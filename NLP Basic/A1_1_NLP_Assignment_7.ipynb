{
  "nbformat": 4,
  "nbformat_minor": 0,
  "metadata": {
    "colab": {
      "provenance": []
    },
    "kernelspec": {
      "name": "python3",
      "display_name": "Python 3"
    },
    "language_info": {
      "name": "python"
    }
  },
  "cells": [
    {
      "cell_type": "code",
      "source": [
        "import nltk\n",
        "import nltk.sentiment.util\n",
        "import nltk.sentiment.sentiment_analyzer\n",
        "\n"
      ],
      "metadata": {
        "id": "ILzIkw6AlWNf"
      },
      "execution_count": 1,
      "outputs": []
    },
    {
      "cell_type": "code",
      "execution_count": 2,
      "metadata": {
        "id": "zjywCHeVdTEl"
      },
      "outputs": [],
      "source": [
        "def wordBasedSentiment():\n",
        "    positive_words = ['love', 'hope', 'joy']\n",
        "    text = 'Rainfall this year brings lot of hope and joy to Farmers.'.split()\n",
        "    analysis = nltk.sentiment.util.extract_unigram_feats(text, positive_words)\n",
        "    print(' -- single word sentiment --')\n",
        "    print(analysis)\n",
        "\n"
      ]
    },
    {
      "cell_type": "code",
      "source": [
        "def multiWordBasedSentiment():\n",
        "    word_sets = [('heavy', 'rains'), ('flood', 'bengaluru')]\n",
        "    text = 'heavy rains cause flash flooding in bengaluru'.split()\n",
        "    analysis = nltk.sentiment.util.extract_unigram_feats(text, word_sets)\n",
        "    print(' -- multi word sentiment --')\n",
        "    print(analysis)\n"
      ],
      "metadata": {
        "id": "hEhA7Kw2oCRn"
      },
      "execution_count": 3,
      "outputs": []
    },
    {
      "cell_type": "code",
      "source": [
        "def markNegativity():\n",
        "    text = 'Rainfall last year did not bring joy to Farmers'.split()\n",
        "    negation = nltk.sentiment.util.mark_negation(text)\n",
        "    print(' -- negativity --')\n",
        "    print(negation)\n"
      ],
      "metadata": {
        "id": "pCWWLBfLq1CS"
      },
      "execution_count": 4,
      "outputs": []
    },
    {
      "cell_type": "code",
      "source": [
        "wordBasedSentiment()\n",
        "multiWordBasedSentiment()\n",
        "markNegativity()\n"
      ],
      "metadata": {
        "colab": {
          "base_uri": "https://localhost:8080/",
          "height": 0
        },
        "id": "yTYUS9iVr1nM",
        "outputId": "c410903b-dac6-4b86-fc13-83874b38fbeb"
      },
      "execution_count": 6,
      "outputs": [
        {
          "output_type": "stream",
          "name": "stdout",
          "text": [
            " -- single word sentiment --\n",
            "{'contains(love)': False, 'contains(hope)': True, 'contains(joy)': True}\n",
            " -- multi word sentiment --\n",
            "{\"contains(('heavy', 'rains'))\": False, \"contains(('flood', 'bengaluru'))\": False}\n",
            " -- negativity --\n",
            "['Rainfall', 'last', 'year', 'did', 'not', 'bring_NEG', 'joy_NEG', 'to_NEG', 'Farmers_NEG']\n"
          ]
        }
      ]
    }
  ]
}